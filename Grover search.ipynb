{
  "cells": [
    {
      "cell_type": "code",
      "execution_count": null,
      "metadata": {
        "id": "27gn_G4j_tKO"
      },
      "outputs": [],
      "source": [
        "pip install qiskit qiskit_optimization pylatexenc "
      ]
    },
    {
      "cell_type": "code",
      "execution_count": 8,
      "metadata": {
        "id": "LFOA2oJJ_rZg"
      },
      "outputs": [],
      "source": [
        "from qiskit import QuantumRegister, QuantumCircuit, BasicAer, Aer, execute\n",
        "from qiskit.quantum_info import Operator\n",
        "from qiskit.visualization import plot_histogram\n",
        "from qiskit.algorithms import Grover, AmplificationProblem"
      ]
    },
    {
      "cell_type": "markdown",
      "metadata": {
        "id": "f5JymyNx_Jgz"
      },
      "source": [
        "# Let's construct the Grover’s algorithm at gate level to search the state |110>.\n",
        "Then let's do the same with the Grover’s function that Qiskit provides."
      ]
    },
    {
      "cell_type": "markdown",
      "metadata": {
        "id": "5wqTuhdrBIys"
      },
      "source": [
        "### First, let's perform Grover's algorithm for 3 qubits to search the state $|110\\rangle$:\n",
        "\n",
        "\\begin{equation*}\n",
        "U_w = \n",
        "\\begin{pmatrix}\n",
        "1 & 0 & 0 & 0 & 0 & 0 & 0 & 0 \\\\\n",
        "0 & 1 & 0 & 0 & 0 & 0 & 0 & 0 \\\\\n",
        "0 & 0 & 1 & 0 & 0 & 0 & 0 & 0 \\\\\n",
        "0 & 0 & 0 & 1 & 0 & 0 & 0 & 0 \\\\\n",
        "0 & 0 & 0 & 0 & 1 & 0 & 0 & 0 \\\\\n",
        "0 & 0 & 0 & 0 & 0 & 1 & 0 & 0 \\\\\n",
        "0 & 0 & 0 & 0 & 0 & 0 & -1 & 0 \\\\\n",
        "0 & 0 & 0 & 0 & 0 & 0 & 0 & 1 \n",
        "\\end{pmatrix}\n",
        "\\end{equation*}"
      ]
    },
    {
      "cell_type": "code",
      "execution_count": 21,
      "metadata": {
        "colab": {
          "base_uri": "https://localhost:8080/"
        },
        "id": "NhEeokbsEWT1",
        "outputId": "691b5ad9-bd36-4eba-da37-3724c7dc4ab0"
      },
      "outputs": [
        {
          "name": "stdout",
          "output_type": "stream",
          "text": [
            "Operator([[ 1.+0.j,  0.+0.j,  0.+0.j,  0.+0.j,  0.+0.j,  0.+0.j,  0.+0.j,\n",
            "            0.+0.j],\n",
            "          [ 0.+0.j,  1.+0.j,  0.+0.j,  0.+0.j,  0.+0.j,  0.+0.j,  0.+0.j,\n",
            "            0.+0.j],\n",
            "          [ 0.+0.j,  0.+0.j,  1.+0.j,  0.+0.j,  0.+0.j,  0.+0.j,  0.+0.j,\n",
            "            0.+0.j],\n",
            "          [ 0.+0.j,  0.+0.j,  0.+0.j,  1.+0.j,  0.+0.j,  0.+0.j,  0.+0.j,\n",
            "            0.+0.j],\n",
            "          [ 0.+0.j,  0.+0.j,  0.+0.j,  0.+0.j,  1.+0.j,  0.+0.j,  0.+0.j,\n",
            "            0.+0.j],\n",
            "          [ 0.+0.j,  0.+0.j,  0.+0.j,  0.+0.j,  0.+0.j,  1.+0.j,  0.+0.j,\n",
            "            0.+0.j],\n",
            "          [ 0.+0.j,  0.+0.j,  0.+0.j,  0.+0.j,  0.+0.j,  0.+0.j, -1.+0.j,\n",
            "            0.+0.j],\n",
            "          [ 0.+0.j,  0.+0.j,  0.+0.j,  0.+0.j,  0.+0.j,  0.+0.j,  0.+0.j,\n",
            "            1.+0.j]],\n",
            "         input_dims=(2, 2, 2), output_dims=(2, 2, 2))\n"
          ]
        }
      ],
      "source": [
        "# Let's construct the circuit for this oracle\n",
        "U = Operator([[1,0,0,0,0,0,0,0], [0,1,0,0,0,0,0,0], [0,0,1,0,0,0,0,0], [0,0,0,1,0,0,0,0], [0,0,0,0,1,0,0,0], [0,0,0,0,0,1,0,0], [0,0,0,0,0,0,-1,0], [0,0,0,0,0,0,0,1]])\n",
        "U"
      ]
    },
    {
      "cell_type": "code",
      "execution_count": 10,
      "metadata": {
        "colab": {
          "base_uri": "https://localhost:8080/"
        },
        "id": "052z0GX_FxDF",
        "outputId": "6d6b34bd-986c-415b-f801-05c9d495143d"
      },
      "outputs": [
        {
          "data": {
            "text/plain": [
              "True"
            ]
          },
          "execution_count": 10,
          "metadata": {},
          "output_type": "execute_result"
        }
      ],
      "source": [
        "U.is_unitary()"
      ]
    },
    {
      "cell_type": "markdown",
      "metadata": {
        "id": "8lY9C_RVN-gi"
      },
      "source": [
        "### Once we know the matrix is unitary, therefore a valid quantum operator, we can convert our Oracle into a Quantum Circuit\n",
        "### Let's build it and run some tests.\n",
        "#### We'll build the oracle, send the state 110 through it and observe that the phase changes"
      ]
    },
    {
      "cell_type": "code",
      "execution_count": 11,
      "metadata": {
        "colab": {
          "base_uri": "https://localhost:8080/",
          "height": 185
        },
        "id": "CgG6PLipFldD",
        "outputId": "c08926f7-65cc-4715-82e9-8dd82ec34780"
      },
      "outputs": [
        {
          "name": "stderr",
          "output_type": "stream",
          "text": [
            "/usr/local/lib/python3.11/site-packages/qiskit/visualization/circuit/matplotlib.py:266: FutureWarning: The default matplotlib drawer scheme will be changed to \"iqp\" in a following release. To silence this warning, specify the current default explicitly as style=\"clifford\", or the new default as style=\"iqp\".\n",
            "  self._style, def_font_ratio = load_style(self._style)\n"
          ]
        },
        {
          "data": {
            "image/png": "[encoded data removed]",
            "text/plain": [
              "<Figure size 389.136x284.278 with 1 Axes>"
            ]
          },
          "execution_count": 11,
          "metadata": {},
          "output_type": "execute_result"
        }
      ],
      "source": [
        "num_qubits = 3\n",
        "qr = QuantumRegister(num_qubits)\n",
        "\n",
        "qcirc = QuantumCircuit(qr)\n",
        "# state 110 (qiskit prints them from bottom to top)\n",
        "qcirc.x(1)\n",
        "qcirc.x(2)\n",
        "qcirc.append(U, qr)\n",
        "qcirc.draw('mpl')"
      ]
    },
    {
      "cell_type": "markdown",
      "metadata": {
        "id": "inM706SwOVC7"
      },
      "source": [
        "#### Observe the -1 in the 7th position of the array."
      ]
    },
    {
      "cell_type": "code",
      "execution_count": 13,
      "metadata": {
        "colab": {
          "base_uri": "https://localhost:8080/"
        },
        "id": "IrN04FBLIruB",
        "outputId": "e888c97d-aeff-4a45-9b78-60bc04daa3eb"
      },
      "outputs": [
        {
          "name": "stdout",
          "output_type": "stream",
          "text": [
            "[ 0.+0.j  0.+0.j  0.+0.j  0.+0.j  0.+0.j  0.+0.j -1.+0.j  0.+0.j]\n"
          ]
        }
      ],
      "source": [
        "backend = BasicAer.get_backend('statevector_simulator')\n",
        "job = execute(qcirc, backend)\n",
        "result = job.result()\n",
        "state = result.get_statevector()\n",
        "print(state)"
      ]
    },
    {
      "cell_type": "markdown",
      "metadata": {
        "id": "X9aMVhPeHJZx"
      },
      "source": [
        "### Now that we created the oracle, let's build the main circuit"
      ]
    },
    {
      "cell_type": "code",
      "execution_count": 23,
      "metadata": {
        "id": "XwkCvTz6LtDe"
      },
      "outputs": [],
      "source": [
        "def get_search_iteration_circuit_110(num_qubits = 3):\n",
        "  qr = QuantumRegister(num_qubits)\n",
        "  qcirc = QuantumCircuit(qr)\n",
        "  \n",
        "  qcirc.append(U, qr)\n",
        "\n",
        "  qcirc.barrier()\n",
        "  # Diffuser operator to amplify the amplitude\n",
        "  for qubit in range(num_qubits):\n",
        "      qcirc.h(qubit)\n",
        "  for qubit in range(num_qubits):\n",
        "      qcirc.x(qubit)\n",
        "  qcirc.h(num_qubits-1)\n",
        "  qcirc.mct(list(range(num_qubits-1)), num_qubits-1)\n",
        "  qcirc.h(num_qubits-1)\n",
        "  for qubit in range(num_qubits):\n",
        "      qcirc.x(qubit)\n",
        "  for qubit in range(num_qubits):\n",
        "      qcirc.h(qubit)\n",
        "  \n",
        "  return qcirc\n"
      ]
    },
    {
      "cell_type": "code",
      "execution_count": 24,
      "metadata": {
        "colab": {
          "base_uri": "https://localhost:8080/",
          "height": 185
        },
        "id": "ro1no622MfIW",
        "outputId": "ce452212-b7c4-4556-9451-187af832c87b"
      },
      "outputs": [
        {
          "name": "stderr",
          "output_type": "stream",
          "text": [
            "/var/folders/30/l254mpr145b28rqcsd2l7l0w0000gn/T/ipykernel_80397/2424322119.py:14: DeprecationWarning: The method ``qiskit.circuit.quantumcircuit.QuantumCircuit.mct()`` is deprecated as of qiskit 0.45.0. It will be removed no earlier than 3 months after the release date. Use QuantumCircuit.mcx as direct replacement.\n",
            "  qcirc.mct(list(range(num_qubits-1)), num_qubits-1)\n",
            "/usr/local/lib/python3.11/site-packages/qiskit/visualization/circuit/matplotlib.py:266: FutureWarning: The default matplotlib drawer scheme will be changed to \"iqp\" in a following release. To silence this warning, specify the current default explicitly as style=\"clifford\", or the new default as style=\"iqp\".\n",
            "  self._style, def_font_ratio = load_style(self._style)\n"
          ]
        },
        {
          "data": {
            "image/png": "[encoded data removed]",
            "text/plain": [
              "<Figure size 974.616x284.278 with 1 Axes>"
            ]
          },
          "execution_count": 24,
          "metadata": {},
          "output_type": "execute_result"
        }
      ],
      "source": [
        "c = get_search_iteration_circuit_110()\n",
        "c.draw('mpl')"
      ]
    },
    {
      "cell_type": "code",
      "execution_count": 29,
      "metadata": {
        "id": "6tFXv_yNL_eZ"
      },
      "outputs": [],
      "source": [
        "def search_for_110(num_iterations):\n",
        "  qr = QuantumRegister(num_qubits)\n",
        "  circuit = QuantumCircuit(qr)\n",
        "  # Initializing the circuit\n",
        "  for i in range(num_qubits):\n",
        "      circuit.h(i)\n",
        "\n",
        "  for i in range(num_iterations):\n",
        "    circuit.append(get_search_iteration_circuit_110(), qr)\n",
        "  circuit.measure_all()\n",
        "\n",
        "  backend = BasicAer.get_backend('qasm_simulator')\n",
        "  results = execute(circuit, backend=backend, shots=1024).result()\n",
        "  answer = results.get_counts()\n",
        "  return answer"
      ]
    },
    {
      "cell_type": "code",
      "execution_count": 30,
      "metadata": {
        "colab": {
          "base_uri": "https://localhost:8080/",
          "height": 340
        },
        "id": "uRQo3Qw9QYwA",
        "outputId": "4cebd2d5-1f5a-4028-956b-a8b6b0c5492f"
      },
      "outputs": [
        {
          "name": "stderr",
          "output_type": "stream",
          "text": [
            "/var/folders/30/l254mpr145b28rqcsd2l7l0w0000gn/T/ipykernel_80397/2424322119.py:14: DeprecationWarning: The method ``qiskit.circuit.quantumcircuit.QuantumCircuit.mct()`` is deprecated as of qiskit 0.45.0. It will be removed no earlier than 3 months after the release date. Use QuantumCircuit.mcx as direct replacement.\n",
            "  qcirc.mct(list(range(num_qubits-1)), num_qubits-1)\n"
          ]
        },
        {
          "data": {
            "image/png": "[encoded data removed]",
            "text/plain": [
              "<Figure size 700x500 with 1 Axes>"
            ]
          },
          "execution_count": 30,
          "metadata": {},
          "output_type": "execute_result"
        }
      ],
      "source": [
        "plot_histogram(search_for_110(1))"
      ]
    },
    {
      "cell_type": "code",
      "execution_count": 31,
      "metadata": {
        "colab": {
          "base_uri": "https://localhost:8080/",
          "height": 340
        },
        "id": "Q2mdl411MV0k",
        "outputId": "1eccda03-7d5e-4540-b2c9-1678d75fd81a"
      },
      "outputs": [
        {
          "name": "stderr",
          "output_type": "stream",
          "text": [
            "/var/folders/30/l254mpr145b28rqcsd2l7l0w0000gn/T/ipykernel_80397/2424322119.py:14: DeprecationWarning: The method ``qiskit.circuit.quantumcircuit.QuantumCircuit.mct()`` is deprecated as of qiskit 0.45.0. It will be removed no earlier than 3 months after the release date. Use QuantumCircuit.mcx as direct replacement.\n",
            "  qcirc.mct(list(range(num_qubits-1)), num_qubits-1)\n"
          ]
        },
        {
          "data": {
            "image/png": "[encoded data removed]",
            "text/plain": [
              "<Figure size 700x500 with 1 Axes>"
            ]
          },
          "execution_count": 31,
          "metadata": {},
          "output_type": "execute_result"
        }
      ],
      "source": [
        "plot_histogram(search_for_110(2))"
      ]
    },
    {
      "cell_type": "markdown",
      "metadata": {
        "id": "d7hg2E2lO_S0"
      },
      "source": [
        "## Now let's do it with Qiskit functionalities"
      ]
    },
    {
      "cell_type": "markdown",
      "metadata": {},
      "source": [
        "Ideal number of iterations:  [theory](https://learn.microsoft.com/en-us/azure/quantum/concepts-grovers#statement-of-the-problem)\n",
        " and [qiskit code](https://qiskit.org/ecosystem/algorithms/_modules/qiskit_algorithms/amplitude_amplifiers/grover.html#Grover.optimal_num_iterations) "
      ]
    },
    {
      "cell_type": "code",
      "execution_count": 33,
      "metadata": {
        "colab": {
          "base_uri": "https://localhost:8080/"
        },
        "id": "gQYxDSL6Os8w",
        "outputId": "5d5aa367-766c-4076-b506-43636eda22b8"
      },
      "outputs": [
        {
          "name": "stdout",
          "output_type": "stream",
          "text": [
            "2\n"
          ]
        }
      ],
      "source": [
        "# First, we need to know how many iterations we need to carry out\n",
        "iterations = Grover.optimal_num_iterations(num_solutions=1, num_qubits=3)\n",
        "print(iterations)"
      ]
    },
    {
      "cell_type": "code",
      "execution_count": 35,
      "metadata": {
        "id": "Vg9JSCuJCUi8"
      },
      "outputs": [
        {
          "name": "stderr",
          "output_type": "stream",
          "text": [
            "/var/folders/30/l254mpr145b28rqcsd2l7l0w0000gn/T/ipykernel_80397/2832586102.py:11: DeprecationWarning: ``qiskit.algorithms.amplitude_amplifiers.grover.Grover.__init__()``'s argument ``quantum_instance`` is deprecated as of qiskit-terra 0.24.0. It will be removed no earlier than 3 months after the release date. Instead, use the ``sampler`` argument. See https://qisk.it/algo_migration for a migration guide.\n",
            "  grover = Grover(quantum_instance=simulator)\n"
          ]
        }
      ],
      "source": [
        "DESIRED_STATE = '110'\n",
        "# Implementing the oracle of the first step\n",
        "oracle_qr = QuantumRegister(num_qubits)\n",
        "oracle = QuantumCircuit(oracle_qr)\n",
        "oracle.append(U, oracle_qr)\n",
        "\n",
        "# The states we are searching for\n",
        "good_states = [DESIRED_STATE]\n",
        "grover_circuit = AmplificationProblem(oracle=oracle, is_good_state=good_states)\n",
        "simulator = BasicAer.get_backend('qasm_simulator')\n",
        "grover = Grover(quantum_instance=simulator)\n",
        "result = grover.amplify(grover_circuit)"
      ]
    },
    {
      "cell_type": "code",
      "execution_count": 37,
      "metadata": {
        "id": "0ldxl64fPdtn"
      },
      "outputs": [
        {
          "name": "stderr",
          "output_type": "stream",
          "text": [
            "/var/folders/30/l254mpr145b28rqcsd2l7l0w0000gn/T/ipykernel_80397/1817408542.py:2: DeprecationWarning: ``qiskit.algorithms.amplitude_amplifiers.grover.Grover.__init__()``'s argument ``quantum_instance`` is deprecated as of qiskit-terra 0.24.0. It will be removed no earlier than 3 months after the release date. Instead, use the ``sampler`` argument. See https://qisk.it/algo_migration for a migration guide.\n",
            "  grover = Grover(quantum_instance=simulator)\n"
          ]
        }
      ],
      "source": [
        "simulator = BasicAer.get_backend('qasm_simulator')\n",
        "grover = Grover(quantum_instance=simulator)\n",
        "result = grover.amplify(grover_circuit)"
      ]
    },
    {
      "cell_type": "code",
      "execution_count": 38,
      "metadata": {
        "colab": {
          "base_uri": "https://localhost:8080/"
        },
        "id": "7FuGXETdPhaj",
        "outputId": "fb7506d4-5975-415c-ddb1-eab3dbc49126"
      },
      "outputs": [
        {
          "name": "stdout",
          "output_type": "stream",
          "text": [
            "{   'assignment': '110',\n",
            "    'circuit_results': [   {   '000': 33,\n",
            "                               '001': 41,\n",
            "                               '010': 24,\n",
            "                               '011': 27,\n",
            "                               '100': 35,\n",
            "                               '101': 34,\n",
            "                               '110': 788,\n",
            "                               '111': 42}],\n",
            "    'iterations': [1],\n",
            "    'max_probability': 0.76953125,\n",
            "    'oracle_evaluation': True,\n",
            "    'top_measurement': '110'}\n",
            "\n",
            " The top measurements are: 110\n"
          ]
        }
      ],
      "source": [
        "print(result)\n",
        "print('\\n The top measurements are:', result.top_measurement)"
      ]
    },
    {
      "cell_type": "markdown",
      "metadata": {
        "id": "ZuVk69F-Qp2F"
      },
      "source": [
        "### Observe that the results are the same as in the circuit built at gate level"
      ]
    }
  ],
  "metadata": {
    "colab": {
      "provenance": []
    },
    "kernelspec": {
      "display_name": "Python 3",
      "name": "python3"
    },
    "language_info": {
      "codemirror_mode": {
        "name": "ipython",
        "version": 3
      },
      "file_extension": ".py",
      "mimetype": "text/x-python",
      "name": "python",
      "nbconvert_exporter": "python",
      "pygments_lexer": "ipython3",
      "version": "3.11.6"
    }
  },
  "nbformat": 4,
  "nbformat_minor": 0
}
