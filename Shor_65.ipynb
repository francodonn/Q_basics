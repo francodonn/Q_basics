{
  "nbformat": 4,
  "nbformat_minor": 0,
  "metadata": {
    "colab": {
      "provenance": []
    },
    "kernelspec": {
      "name": "python3",
      "display_name": "Python 3"
    },
    "language_info": {
      "name": "python"
    },
    "gpuClass": "standard",
    "accelerator": "GPU"
  },
  "cells": [
    {
      "cell_type": "markdown",
      "source": [
        "# Let's use shor's algorithm to factorize the number 65"
      ],
      "metadata": {
        "id": "LIOmaQsk8E7D"
      }
    },
    {
      "cell_type": "code",
      "source": [
        "!pip install qiskit --upgrade\n",
        "!pip install pylatexenc\n",
        "!pip install scipy --upgrade"
      ],
      "metadata": {
        "id": "u24vb0XW0WXL"
      },
      "execution_count": null,
      "outputs": []
    },
    {
      "cell_type": "code",
      "execution_count": null,
      "metadata": {
        "id": "2D6vQdGV0L5r"
      },
      "outputs": [],
      "source": [
        "import qiskit\n",
        "from qiskit import IBMQ\n",
        "from qiskit import *\n",
        "from qiskit.tools.visualization import plot_histogram\n",
        "from qiskit.tools.monitor import job_monitor\n",
        "from qiskit.quantum_info import Statevector, partial_trace\n",
        "from qiskit.quantum_info.operators import Operator\n",
        "%matplotlib inline\n",
        "from sympy import Symbol, Matrix, eye, exp, conjugate, sqrt, pi\n",
        "from sympy.physics.quantum import TensorProduct\n",
        "import numpy as np\n",
        "from numpy import pi as np_pi\n",
        "import math\n",
        "import random\n",
        "from fractions import Fraction\n",
        "#Auxiliar functions\n",
        "def local_simulation(qc, shots=1000):\n",
        "    simulator = Aer.get_backend('qasm_simulator')\n",
        "    result = execute(qc, simulator, shots=shots, memory=True).result()\n",
        "    values = result.get_counts(qc)\n",
        "    return values, result"
      ]
    },
    {
      "cell_type": "markdown",
      "source": [
        "### We first build the order finding quantum subroutine\n",
        "\n",
        "The Unitary matrix to be used will be determined \n",
        "- u starts with state([0, 1]) because |1> is a superposition of the eigenvalues of U \n",
        "- In the second register we'll have log2(N) qubits"
      ],
      "metadata": {
        "id": "DwrhwFu4CZtn"
      }
    },
    {
      "cell_type": "code",
      "source": [
        "def qft_dagger(n):\n",
        "    \"\"\"n-qubit QFTdagger the first n qubits in circ\"\"\"\n",
        "    qc = QuantumCircuit(n)\n",
        "    # Don't forget the Swaps!\n",
        "    for qubit in range(n//2):\n",
        "        qc.swap(qubit, n-qubit-1)\n",
        "    for j in range(n):\n",
        "        for m in range(j):\n",
        "            qc.cp(-np.pi/float(2**(j-m)), m, j)\n",
        "        qc.h(j)\n",
        "    qc.name = \"QFT†\"\n",
        "    return qc\n",
        "\n",
        "def get_U(a, N, second_register_len):\n",
        "  maxN = 2**second_register_len; # Max number represented using second_register_len bits\n",
        "  U = [];\n",
        "  for i in range(N):# i takes values 0 to N-1\n",
        "      aux = a*i % N\n",
        "      st = np.zeros(maxN)\n",
        "      st[aux] = 1\n",
        "      U.append(st);\n",
        "\n",
        "  for i in range(N, maxN):# i takes values N to maxN\n",
        "      st = np.zeros(maxN)\n",
        "      st[i] = 1\n",
        "      U.append(st);\n",
        "  U = np.transpose(np.array(U))\n",
        "  print(f\"Built U with shape: {U.shape}\")\n",
        "  return U\n",
        "\n",
        "def build_QPE_circuit(a, N=65, t=8):\n",
        "  second_register_len = math.ceil(math.log2(N))\n",
        "  U = get_U(a, N, second_register_len)# Building U\n",
        "  qc_phase_estimation = QuantumCircuit(QuantumRegister(t + second_register_len), ClassicalRegister(t), name=\"QPE\")\n",
        "  \n",
        "  # STEP 0: Initialize. Second register qubits take the value 1\n",
        "  #qc_phase_estimation.x(t) #\n",
        "  #qc_phase_estimation.x(range(t, t + second_register_len))\n",
        "  qc_phase_estimation.barrier()\n",
        "\n",
        "  # STEP 1: H on first register\n",
        "  qc_phase_estimation.h(range(t))\n",
        "  qc_phase_estimation.barrier()\n",
        "  \n",
        "  # STEP 2: appplying unitary matrix\n",
        "  for i in range(1, t+1):\n",
        "    #print(f\"Applying unitary 2^{i} for a={a}\")\n",
        "    circuit = QuantumCircuit(QuantumRegister(second_register_len), name=f'2^{i}')\n",
        "    circuit.unitary(Operator(U**(2**(i-1))), range(second_register_len))\n",
        "    custom_gate = circuit.to_gate().control()\n",
        "    control_qubit_index = t - i\n",
        "    qubits = [control_qubit_index] + list(range(t, t + second_register_len))\n",
        "    qc_phase_estimation.append(custom_gate, qubits)\n",
        "  \n",
        "  qc_phase_estimation.barrier()\n",
        "  \n",
        "  # STEP 3: Applying inverse QFT\n",
        "  qc_phase_estimation.append(qft_dagger(t), range(t))# QFT with t qubits\n",
        "  qc_phase_estimation.barrier()\n",
        "  \n",
        "  # Adding measurements\n",
        "  qc_phase_estimation.measure(range(t), range(t))\n",
        "  \n",
        "  return qc_phase_estimation, U\n",
        "\n",
        "def get_phase(a, N, t):\n",
        "    print(f\"Getting Phase for a={a}, N={N}, t={t}\")\n",
        "    qc, U = build_QPE_circuit(a, N, t)\n",
        "    # Simulate Results\n",
        "    _, result = local_simulation(qc)\n",
        "    readings = result.get_memory()\n",
        "    print(\"Register Reading: \" + readings[0])\n",
        "    phase = int(readings[0], 2)/(2**t)\n",
        "    print(\"Corresponding Phase: %f\" % phase)\n",
        "    frac = Fraction(phase).limit_denominator(N) # Denominator should (hopefully!) tell us r\n",
        "    r = frac.denominator\n",
        "    return phase, r"
      ],
      "metadata": {
        "id": "yiojlLIopYig"
      },
      "execution_count": null,
      "outputs": []
    },
    {
      "cell_type": "markdown",
      "source": [
        "### Now let's get to Shor's algorithm"
      ],
      "metadata": {
        "id": "ZK_wPntECe0z"
      }
    },
    {
      "cell_type": "code",
      "source": [
        "def get_ab_factors(N):\n",
        "  alpha = math.log2(N)\n",
        "  L = math.ceil(alpha) \n",
        "  print(f\"alpha: {alpha}, L: {L}\")\n",
        "  for b in range(2, L):\n",
        "    x = alpha/b\n",
        "    u = 2**x\n",
        "    u1 = math.floor(u)\n",
        "    u2 = math.ceil(u)\n",
        "    if u1**b == N:\n",
        "      return u1, b\n",
        "    if u2**b == N:\n",
        "      return u2, b\n",
        "\n",
        "  return None, None"
      ],
      "metadata": {
        "id": "e4KeNyY10Wyk"
      },
      "execution_count": null,
      "outputs": []
    },
    {
      "cell_type": "code",
      "source": [
        "def get_shor_factorization(N, t=8):\n",
        "  # Step 1: If N is even, return the factor of 2\n",
        "  if N % 2 == 0:\n",
        "    return 2, N//2\n",
        "  \n",
        "  # Step 2:  Determine whether N = a^b for integers a > 1 and b =>2, and if so return the factor a.\n",
        "  a, b = get_ab_factors(N)\n",
        "  if a is not None:\n",
        "    print(f\"a: {a}, b: {b}\")\n",
        "    return a, N//a\n",
        "\n",
        "  k_values = list(range(2, N))\n",
        "  random.shuffle(k_values)\n",
        "  for k in k_values:\n",
        "    print(\"\\n\")\n",
        "    # Step 3: Randomly choose k in the range 2 to N-1. If gcd(k, N) > 1 then return the factor gcd(k, N)\n",
        "    gcd_k_n = math.gcd(k, N)\n",
        "    if gcd_k_n > 1:\n",
        "      print(f\"gcd({k}, {N}): {gcd_k_n}\")\n",
        "      return gcd_k_n, N//gcd_k_n\n",
        "  \n",
        "    # Step 4: Use the order finding quantum subroutine to find the order r of k (modulo N)\n",
        "    # TODO probar si obtener la phase varias veces para el mismo k ayuda\n",
        "    phase, r = get_phase(k, N, t)\n",
        "    print(f\"Obtained factor r={r} for k={k}\")\n",
        "    # Step 5: If r is even and k^(r/2) != -1 mod N then compute gcd(K^(r/2)-1, N) and gcd(K^(r/2)+1, N), and test to see if one of these is a non trivial factor. If it fails return to step 3\n",
        "    if phase > 0: #(r % 2 == 1) or (k**(r//2) == (-1 % N) ):\n",
        "      gcd_lower = math.gcd(k**(r//2) - 1, N)\n",
        "      gcd_upper = math.gcd(k**(r//2) + 1, N)\n",
        "      print(f\"Evaluating Factors: {gcd_lower} and {gcd_upper}\")\n",
        "      for guess in [gcd_lower, gcd_upper]:\n",
        "          if guess not in [1,N] and (N % guess) == 0: # Check to see if guess is a factor\n",
        "              print(f\"Non-trivial factor found: {guess}\")\n",
        "              factor_found = True\n",
        "              return guess, N//guess\n",
        "    \n",
        "  return None, None"
      ],
      "metadata": {
        "id": "lp1wjQSM5lPd"
      },
      "execution_count": null,
      "outputs": []
    },
    {
      "cell_type": "code",
      "source": [
        "# con 1000.\n",
        "a, b = get_shor_factorization(N=15, t=3)\n",
        "a, b"
      ],
      "metadata": {
        "colab": {
          "base_uri": "https://localhost:8080/"
        },
        "id": "RXc1a5MmNJR7",
        "outputId": "ec90a086-b45a-46b3-89bd-ae36a40de0b6"
      },
      "execution_count": null,
      "outputs": [
        {
          "output_type": "stream",
          "name": "stdout",
          "text": [
            "alpha: 3.9068905956085187, L: 4\n",
            "\n",
            "\n",
            "gcd(3, 15): 3\n"
          ]
        },
        {
          "output_type": "execute_result",
          "data": {
            "text/plain": [
              "(3, 5)"
            ]
          },
          "metadata": {},
          "execution_count": 6
        }
      ]
    },
    {
      "cell_type": "code",
      "source": [
        "# con 1111..\n",
        "a, b = get_shor_factorization(N=15, t=3)\n",
        "a, b"
      ],
      "metadata": {
        "colab": {
          "base_uri": "https://localhost:8080/"
        },
        "id": "AtVqlOtYNYb-",
        "outputId": "3a3b60e2-c7ae-446e-b5af-e309afaf57a6"
      },
      "execution_count": null,
      "outputs": [
        {
          "output_type": "stream",
          "name": "stdout",
          "text": [
            "alpha: 3.9068905956085187, L: 4\n",
            "\n",
            "\n",
            "Getting Phase for a=11, N=15, t=3\n",
            "Built U with shape: (16, 16)\n",
            "Register Reading: 000\n",
            "Corresponding Phase: 0.000000\n",
            "Obtained factor r=1 for k=11\n",
            "\n",
            "\n",
            "Getting Phase for a=7, N=15, t=3\n",
            "Built U with shape: (16, 16)\n",
            "Register Reading: 000\n",
            "Corresponding Phase: 0.000000\n",
            "Obtained factor r=1 for k=7\n",
            "\n",
            "\n",
            "gcd(10, 15): 5\n"
          ]
        },
        {
          "output_type": "execute_result",
          "data": {
            "text/plain": [
              "(5, 3)"
            ]
          },
          "metadata": {},
          "execution_count": 12
        }
      ]
    },
    {
      "cell_type": "code",
      "source": [
        "a, b = get_shor_factorization(N=65, t=3)\n",
        "a, b"
      ],
      "metadata": {
        "colab": {
          "base_uri": "https://localhost:8080/"
        },
        "id": "kUO3wImhLIuq",
        "outputId": "a1fe1ccd-d1d8-4e38-f3f4-70ed33b03632"
      },
      "execution_count": null,
      "outputs": [
        {
          "output_type": "stream",
          "name": "stdout",
          "text": [
            "alpha: 6.022367813028454, L: 7\n",
            "\n",
            "\n",
            "Getting Phase for a=61, N=65, t=3\n",
            "Built U with shape: (128, 128)\n",
            "Register Reading: 101\n",
            "Corresponding Phase: 0.625000\n",
            "Obtained factor r=8 for k=61\n",
            "Evaluating Factors: 5 and 1\n",
            "Non-trivial factor found: 5\n"
          ]
        },
        {
          "output_type": "execute_result",
          "data": {
            "text/plain": [
              "(5, 13)"
            ]
          },
          "metadata": {},
          "execution_count": 39
        }
      ]
    },
    {
      "cell_type": "markdown",
      "source": [
        "### The built shor's algorithm outputs correctly 3 and 15 as the factors of 65"
      ],
      "metadata": {
        "id": "qbUZW8u3rHIf"
      }
    }
  ]
}